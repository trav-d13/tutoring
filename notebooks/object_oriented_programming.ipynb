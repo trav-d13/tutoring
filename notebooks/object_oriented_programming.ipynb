{
 "cells": [
  {
   "cell_type": "code",
   "execution_count": 1,
   "id": "0744998d",
   "metadata": {},
   "outputs": [],
   "source": [
    "# Imports"
   ]
  },
  {
   "cell_type": "markdown",
   "id": "5582b41c",
   "metadata": {},
   "source": [
    "# Object Oriented Programming (OOP)\n",
    "Object-Oriented Programming (OOP) is a programming paradigm that revolves around the concept of \"objects,\" which are instances of classes. It allows you to model real-world entities as software objects, encapsulating both data and the methods (functions) that operate on that data. OOP promotes modularity, reusability, and a clearer structure in your code.\n",
    "\n",
    "The key concepts in OOP are:\n",
    "\n",
    "1. **Classes and Objects**: A class is a blueprint or template for creating objects. It defines the properties (attributes) and behaviors (methods) that the objects will have. An object is an instance of a class.\n",
    "\n",
    "2. **Attributes and Properties**: These are the data members of a class, representing the characteristics of an object. They can be variables of various types.\n",
    "\n",
    "3. **Methods**: Methods are functions defined within a class that operate on the class's data. They define the behavior of the objects created from that class.\n",
    "\n",
    "4. **Encapsulation**: This is the concept of bundling data (attributes) and methods that operate on that data into a single unit (class). It provides control over access to the internal data of an object, promoting data hiding and abstraction.\n",
    "\n",
    "5. **Inheritance**: Inheritance allows you to create a new class (subclass or derived class) that inherits properties and behaviors from an existing class (superclass or base class). It facilitates code reuse and specialization.\n",
    "\n",
    "6. **Polymorphism**: Polymorphism allows objects of different classes to be treated as objects of a common superclass. It enables dynamic method binding and flexibility in implementation.\n",
    "\n",
    "7. **Abstraction**: Abstraction involves simplifying complex reality by modeling classes based on relevant attributes and behaviors. It hides the unnecessary details and exposes only the necessary features."
   ]
  },
  {
   "cell_type": "markdown",
   "id": "156b1418",
   "metadata": {},
   "source": [
    "## Simple Example"
   ]
  },
  {
   "cell_type": "code",
   "execution_count": 1,
   "id": "316eeabd",
   "metadata": {
    "ExecuteTime": {
     "end_time": "2023-10-12T11:55:12.291115001Z",
     "start_time": "2023-10-12T11:55:12.290321973Z"
    }
   },
   "outputs": [],
   "source": [
    "class Person:\n",
    "    def __init__(self, name, age):\n",
    "        self.name = name\n",
    "        self.age = age\n",
    "\n",
    "    def greet(self):\n",
    "        print(f\"Hello, my name is {self.name} and I am {self.age} years old.\")"
   ]
  },
  {
   "cell_type": "code",
   "execution_count": 3,
   "id": "a86eb8ab",
   "metadata": {
    "ExecuteTime": {
     "end_time": "2023-10-12T11:57:21.318635085Z",
     "start_time": "2023-10-12T11:57:21.272443712Z"
    }
   },
   "outputs": [
    {
     "name": "stdout",
     "output_type": "stream",
     "text": [
      "Alice\n",
      "25\n",
      "Hello, my name is Alice and I am 30 years old.\n",
      "Hello, my name is Bob and I am 25 years old.\n"
     ]
    }
   ],
   "source": [
    "# Create objects (instances) of the 'Person' class\n",
    "person1 = Person(name=\"Alice\", age=30)\n",
    "person2 = Person(name=\"Bob\", age=25)\n",
    "\n",
    "# Accessing attributes\n",
    "print(person1.name)  # Output: Alice\n",
    "print(person2.age)   # Output: 25\n",
    "\n",
    "# Calling methods\n",
    "person1.greet()  # Output: Hello, my name is Alice and I am 30 years old.\n",
    "person2.greet()  # Output: Hello, my name is Bob and I am 25 years old.\n"
   ]
  },
  {
   "cell_type": "markdown",
   "id": "1e604c45",
   "metadata": {},
   "source": [
    "In this example:\n",
    "\n",
    "- **Person** is a class with the attributes name and age, and the method greet().\n",
    "- **person1** and **person2** are objects of the **Person class**.\n",
    "- The **__init__ method** is the **constructor** that initializes the object's attributes when it's created.\n",
    "- **greet()** is a method that prints a greeting using the object's attributes."
   ]
  },
  {
   "cell_type": "markdown",
   "id": "922529ba",
   "metadata": {},
   "source": [
    "## 1. Classes and Objects\n",
    "#### Classes:\n",
    "A class is a blueprint or template that defines the structure and behavior of objects. It serves as a **prototype/template** for creating objects of that class. In a class, you define attributes (data members) and methods (functions) that the objects will possess. These attributes and methods collectively encapsulate the behavior and characteristics of the real-world entity you're modeling.\n",
    "\n",
    "#### Objects:\n",
    "An object is an instance of a class. It's a concrete representation of the abstract blueprint defined by the class. When you create an object, you're essentially creating a variable of the class type, and you can use it to access its attributes and methods."
   ]
  },
  {
   "cell_type": "code",
   "execution_count": 4,
   "id": "56d49aa8",
   "metadata": {},
   "outputs": [],
   "source": [
    "class Dog:\n",
    "    def __init__(self, name, age):\n",
    "        self.name = name\n",
    "        self.age = age\n",
    "        \n",
    "    def bark(self):\n",
    "        print(f\"{self.name} says Woof!\")"
   ]
  },
  {
   "cell_type": "code",
   "execution_count": 5,
   "id": "ef15da63",
   "metadata": {},
   "outputs": [
    {
     "name": "stdout",
     "output_type": "stream",
     "text": [
      "Buddy\n",
      "5\n",
      "Buddy says Woof!\n",
      "Max says Woof!\n"
     ]
    }
   ],
   "source": [
    "# Creating objects (instances) of the 'Dog' class\n",
    "dog1 = Dog(\"Buddy\", 3)\n",
    "dog2 = Dog(\"Max\", 5)\n",
    "\n",
    "# Accessing attributes\n",
    "print(dog1.name)  # Output: Buddy\n",
    "print(dog2.age)   # Output: 5\n",
    "\n",
    "# Calling methods\n",
    "dog1.bark()  # Output: Buddy says Woof!\n",
    "dog2.bark()  # Output: Max says Woof!\n"
   ]
  },
  {
   "cell_type": "markdown",
   "id": "00309590",
   "metadata": {},
   "source": [
    "In this example:\n",
    "\n",
    "- The Dog class has an __init__ method that initializes the object's attributes (name and age).\n",
    "- The bark() method prints a simple message using the object's name attribute.\n",
    "- dog1 and dog2 are objects (instances) of the Dog class.\n",
    "\n",
    "When you create objects from the class:\n",
    "\n",
    "- You can access the attributes using the dot notation (object.attribute), like dog1.name.\n",
    "- You can call methods on the objects using the dot notation (object.method()), like dog2.bark().\n",
    "\n",
    "This separation between the class (blueprint) and its objects (instances) allows you to create multiple objects that share the same structure and behavior, but with different attribute values. It promotes code reusability and organization. Additionally, you can create more complex relationships between classes through concepts like inheritance and composition, which enable you to build sophisticated software systems with well-defined interactions between different classes and objects. \n",
    "\n",
    "*In short OOP allows us to more accurately capture the relationships of the real-world and embed that within our programming.*"
   ]
  },
  {
   "cell_type": "markdown",
   "id": "d2d2a6bb",
   "metadata": {},
   "source": [
    "## 2. Attributes and Properties\n",
    "\n",
    "In Object-Oriented Programming (OOP), attributes and properties are key components that define the characteristics and state of objects within a class. They represent the data that an object holds and provides a way to store and access information associated with each object. While the terms \"attributes\" and \"properties\" are often used interchangeably, let's delve into a bit more detail on these concepts:\n",
    "\n",
    "**Attributes**:\n",
    "Attributes are the data members or variables that belong to a class and define the state of an object. They represent the characteristics or qualities of the objects that the class models. For example, if you're modeling a Person class, attributes could include name, age, and gender. These attributes are defined within the class and are shared by all instances (objects) of that class."
   ]
  },
  {
   "cell_type": "code",
   "execution_count": 9,
   "id": "fe50ab3c",
   "metadata": {},
   "outputs": [],
   "source": [
    "class Person:\n",
    "    def __init__(self, name, age):\n",
    "        self.name = name   # 'name' is an attribute\n",
    "        self.age = age     # 'age' is an attribute"
   ]
  },
  {
   "cell_type": "code",
   "execution_count": 10,
   "id": "84710bc2",
   "metadata": {},
   "outputs": [
    {
     "name": "stdout",
     "output_type": "stream",
     "text": [
      "Alice\n",
      "30\n"
     ]
    }
   ],
   "source": [
    "person1 = Person(\"Alice\", 30)\n",
    "print(person1.name)  # Accessing the 'name' attribute\n",
    "print(person1.age)   # Accessing the 'age' attribute"
   ]
  },
  {
   "cell_type": "markdown",
   "id": "c47db40f",
   "metadata": {},
   "source": [
    "#### Properties:\n",
    "Properties, also known as getters and setters, provide controlled access to attributes. They allow you to define methods that are used to get (access) or set (modify) the values of attributes. This provides an additional layer of control and encapsulation over the data. Properties are useful when you want to add validation or perform actions when getting or setting attribute values.\n",
    "\n",
    "The `self` variable below indicates that the method is going to effect the object itself, influencing its properties or enabling an action to be performed."
   ]
  },
  {
   "cell_type": "code",
   "execution_count": 11,
   "id": "bc837c7c",
   "metadata": {},
   "outputs": [],
   "source": [
    "class Circle:\n",
    "    def __init__(self, radius):\n",
    "        self._radius = radius  # '_radius' is an attribute (conventionally marked as protected)\n",
    "\n",
    "    @property\n",
    "    def radius(self):\n",
    "        return self._radius\n",
    "\n",
    "    @radius.setter\n",
    "    def radius(self, value):\n",
    "        if value > 0:\n",
    "            self._radius = value\n",
    "        else:\n",
    "            print(\"Radius must be greater than 0.\")\n",
    "\n",
    "circle = Circle(5)\n",
    "print(circle.radius)  # Accessing the 'radius' property\n",
    "circle.radius = 8     # Setting the 'radius' property\n"
   ]
  },
  {
   "cell_type": "code",
   "execution_count": 14,
   "id": "9e97757d",
   "metadata": {},
   "outputs": [
    {
     "name": "stdout",
     "output_type": "stream",
     "text": [
      "5\n"
     ]
    }
   ],
   "source": [
    "circle = Circle(5)\n",
    "print(circle.radius)  # Accessing the 'radius' property"
   ]
  },
  {
   "cell_type": "code",
   "execution_count": 15,
   "id": "60c0614e",
   "metadata": {},
   "outputs": [
    {
     "name": "stdout",
     "output_type": "stream",
     "text": [
      "8\n"
     ]
    }
   ],
   "source": [
    "circle.radius = 8     # Setting the 'radius' property\n",
    "print(circle.radius)  # Accessing the changed 'radius' property"
   ]
  },
  {
   "cell_type": "markdown",
   "id": "12efdc49",
   "metadata": {},
   "source": [
    "In the above example, the radius attribute is encapsulated using properties. The @property decorator creates a getter method, allowing you to access the attribute as if it were a property. The @radius.setter decorator creates a setter method, allowing you to set the attribute with validation.\n",
    "\n",
    "In summary, attributes define the data that objects store, while properties provide controlled access to these attributes. By using properties, you can add extra logic, validation, or encapsulation to attribute access and modification, enhancing the control and flexibility of your classes."
   ]
  },
  {
   "cell_type": "markdown",
   "id": "27d8565b",
   "metadata": {},
   "source": [
    "## 3. Methods\n",
    "In Object-Oriented Programming (OOP), methods are functions that are defined within a class and operate on the data (attributes) of objects created from that class. Methods define the behavior of objects and allow them to perform specific actions or computations. Let's dive deeper into the concept of methods:\n",
    "\n",
    "## Methods:\n",
    "Methods are functions that are associated with a class and operate on the attributes and other methods of objects created from that class. They allow you to perform actions, calculations, or modifications related to the class's purpose. Methods define the behavior of objects and enable you to interact with and manipulate their data. In OOP, methods are an integral part of encapsulating data and behavior within a single unit.\n",
    "\n",
    "#### Instance Methods:\n",
    "Instance methods are the most common type of methods in OOP. They are defined within a class and can access and modify the attributes of the object they're called on. Instance methods are often used to perform operations specific to individual objects."
   ]
  },
  {
   "cell_type": "code",
   "execution_count": 16,
   "id": "774c392c",
   "metadata": {},
   "outputs": [],
   "source": [
    "class Rectangle:\n",
    "    def __init__(self, width, height):\n",
    "        self.width = width\n",
    "        self.height = height\n",
    "\n",
    "    def calculate_area(self):\n",
    "        return self.width * self.height"
   ]
  },
  {
   "cell_type": "code",
   "execution_count": 17,
   "id": "48ec49a0",
   "metadata": {},
   "outputs": [
    {
     "name": "stdout",
     "output_type": "stream",
     "text": [
      "The area of the rectangle is 15\n"
     ]
    }
   ],
   "source": [
    "rectangle = Rectangle(5, 3)\n",
    "area = rectangle.calculate_area()  # Calling the instance method\n",
    "print(f\"The area of the rectangle is {area}\")"
   ]
  },
  {
   "cell_type": "markdown",
   "id": "8d650f09",
   "metadata": {},
   "source": [
    "In the example above, `calculate_area()` is an instance method. It can access the attributes `width` and `height` of the `rectangle` object it's called on."
   ]
  },
  {
   "cell_type": "markdown",
   "id": "aadf4a4b",
   "metadata": {},
   "source": [
    "#### Class Methods:\n",
    "Class methods are methods that are defined using the `@classmethod` decorator. They work with the class itself rather than individual instances. Class methods can be used to create utility functions that operate on **class-level** data or perform operations related to the class as a whole."
   ]
  },
  {
   "cell_type": "code",
   "execution_count": 18,
   "id": "a7cb9720",
   "metadata": {},
   "outputs": [],
   "source": [
    "class MathUtils:\n",
    "    @classmethod\n",
    "    def square(cls, x):\n",
    "        return x * x"
   ]
  },
  {
   "cell_type": "code",
   "execution_count": 19,
   "id": "c0e002d0",
   "metadata": {},
   "outputs": [
    {
     "name": "stdout",
     "output_type": "stream",
     "text": [
      "The square of 5 is 25\n"
     ]
    }
   ],
   "source": [
    "result = MathUtils.square(5)  # Calling the class method\n",
    "print(f\"The square of 5 is {result}\")"
   ]
  },
  {
   "cell_type": "markdown",
   "id": "654f0c1b",
   "metadata": {},
   "source": [
    "In this example, square is a class method. It operates on the class MathUtils and doesn't require an instance to be created."
   ]
  },
  {
   "cell_type": "markdown",
   "id": "a4b37754",
   "metadata": {},
   "source": [
    "#### Static Methods:\n",
    "Static methods are defined using the `@staticmethod` decorator. They are similar to class methods but don't have access to class-level data or attributes. **They are often used for utility functions that don't depend on the class or its instances.**"
   ]
  },
  {
   "cell_type": "code",
   "execution_count": 20,
   "id": "a87ae3c5",
   "metadata": {},
   "outputs": [],
   "source": [
    "class StringUtils:\n",
    "    @staticmethod\n",
    "    def is_palindrome(word):\n",
    "        return word == word[::-1]"
   ]
  },
  {
   "cell_type": "code",
   "execution_count": 21,
   "id": "1d80c29a",
   "metadata": {},
   "outputs": [
    {
     "name": "stdout",
     "output_type": "stream",
     "text": [
      "True\n"
     ]
    }
   ],
   "source": [
    "print(StringUtils.is_palindrome(\"radar\"))  # Calling the static method"
   ]
  },
  {
   "cell_type": "markdown",
   "id": "8e92d753",
   "metadata": {},
   "source": [
    "Here, is_palindrome is a static method. It doesn't require access to class or instance data and operates solely on its inputs."
   ]
  },
  {
   "cell_type": "markdown",
   "id": "3229d630",
   "metadata": {},
   "source": [
    "#### Summary:\n",
    "In summary, methods in OOP are functions that define the behavior of objects. They allow you to perform actions, calculations, and modifications on the data within objects. Instance methods work with individual objects, class methods operate on the class itself, and static methods are utility functions that don't depend on class or instance data."
   ]
  },
  {
   "cell_type": "markdown",
   "id": "6e24f6ae",
   "metadata": {},
   "source": [
    "## 4. Encapsulation\n",
    "Encapsulation is a fundamental concept in Object-Oriented Programming (OOP) that refers to the bundling of data (attributes) and the methods (functions) that operate on that data into a single unit, often known as a class. Encapsulation provides control over the access and modification of data by restricting direct access to the internal details of an object. This promotes data hiding, information security, and abstraction, making your code more modular and maintainable.\n",
    "\n",
    "Here's a more detailed explanation of encapsulation:\n",
    "\n",
    "#### Benefits of Encapsulation:\n",
    "\n",
    "1. **Data Protection**: Encapsulation prevents external code from directly modifying or accessing the internal state of an object. This helps ensure that data integrity is maintained and that unexpected changes don't disrupt the functioning of other parts of the program.\n",
    "\n",
    "2.    **Abstraction**: Encapsulation allows you to provide a clear interface to the outside world while hiding the internal implementation details. Users of the class only need to know how to use the provided methods, not how they are implemented.\n",
    "\n",
    "3.    **Modularity**: By encapsulating data and methods related to a specific functionality within a class, you create modular units that can be easily maintained and updated. Changes within a class are less likely to affect other parts of the program.\n",
    "\n",
    "#### Access Modifiers:\n",
    "Access modifiers are keywords used to control the visibility and accessibility of class members (attributes and methods). They enforce the level of encapsulation by specifying who can access or modify certain elements.\n",
    "\n",
    "In Python, the common access modifiers are:\n",
    "\n",
    "- **Public**: No access restrictions. Members are accessible from anywhere. \n",
    "```\n",
    "Example: class MyClass: def my_method(self): pass\n",
    "```\n",
    "\n",
    "- **Protected**: Members are accessible within the class and its subclasses. To denote protected attributes, you can use a single underscore prefix (convention). Example: \n",
    "```\n",
    "_protected_attribute\n",
    "```\n",
    "\n",
    "- **Private**: Members are only accessible within the class. To denote private attributes, you can use a double underscore prefix. However, they are not truly private; their names are \"mangled\" to make them harder to accidentally override. Example: \n",
    "```\n",
    "__private_attribute\n",
    "```"
   ]
  },
  {
   "cell_type": "code",
   "execution_count": 22,
   "id": "a4b47e24",
   "metadata": {},
   "outputs": [],
   "source": [
    "class BankAccount:\n",
    "    def __init__(self, balance):\n",
    "        self.__balance = balance  # Private attribute\n",
    "\n",
    "    def deposit(self, amount):\n",
    "        if amount > 0:\n",
    "            self.__balance += amount\n",
    "\n",
    "    def withdraw(self, amount):\n",
    "        if 0 < amount <= self.__balance:\n",
    "            self.__balance -= amount\n",
    "        else:\n",
    "            print(\"Insufficient funds\")\n",
    "\n",
    "    def get_balance(self):\n",
    "        return self.__balance"
   ]
  },
  {
   "cell_type": "code",
   "execution_count": 23,
   "id": "ecf3c120",
   "metadata": {},
   "outputs": [
    {
     "name": "stdout",
     "output_type": "stream",
     "text": [
      "500\n"
     ]
    }
   ],
   "source": [
    "account = BankAccount(1000)\n",
    "account.withdraw(500)\n",
    "print(account.get_balance())  # Accessing private attribute through method"
   ]
  },
  {
   "cell_type": "markdown",
   "id": "d64c68be",
   "metadata": {},
   "source": [
    "In the above example, the balance attribute is encapsulated as a private attribute using double underscores. Access to this attribute is only possible through the provided methods (`deposit`, `withdraw`, `get_balance`), ensuring that the balance can only be modified or accessed in a controlled manner.\n",
    "\n",
    "In summary, encapsulation in OOP involves bundling data and methods into a single unit (class) and controlling access to internal details. This promotes data security, abstraction, and modularity, making your code more organized and maintainable. Access modifiers further refine the level of encapsulation by specifying who can access class members."
   ]
  },
  {
   "cell_type": "markdown",
   "id": "451c00c3",
   "metadata": {},
   "source": [
    "## 5. Inheritance\n",
    "Inheritance is a core concept in Object-Oriented Programming (OOP) that allows you to create a new class (subclass or derived class) based on an existing class (superclass or base class). The subclass inherits the attributes and methods of the superclass, and you can also extend or modify its behavior. Inheritance promotes code reuse, abstraction, and the creation of hierarchies in your code.\n",
    "\n",
    "Here's a more detailed explanation of inheritance:\n",
    "\n",
    "Base Class (Superclass):\n",
    "The base class, also known as the superclass or parent class, is the class that you start with. It defines the common attributes and methods that are shared among its subclasses. The base class serves as a blueprint that can be extended and specialized by subclasses.\n",
    "\n",
    "Subclass (Derived Class):\n",
    "The subclass, also known as the derived class or child class, is a new class that you create based on the base class. The subclass inherits the attributes and methods of the base class. You can add new attributes and methods, override existing methods, or provide additional functionality specific to the subclass.\n",
    "\n",
    "Benefits of Inheritance:\n",
    "\n",
    "1. **Code Reuse**: Inheritance allows you to reuse the attributes and methods of a base class in multiple subclasses, reducing code duplication and improving maintainability.\n",
    "2. **Abstraction**: Inheritance helps create a hierarchy of classes, where each subclass represents a more specialized version of the superclass. This abstraction reflects real-world relationships and concepts.\n",
    "3. **Polymorphism**: Inheritance is a key aspect of polymorphism, where objects of different classes can be treated as objects of a common superclass. This promotes flexibility in code design."
   ]
  },
  {
   "cell_type": "code",
   "execution_count": 26,
   "id": "bc1a7453",
   "metadata": {},
   "outputs": [],
   "source": [
    "class Animal:\n",
    "    def __init__(self, name):\n",
    "        self.name = name\n",
    "\n",
    "    def speak(self):\n",
    "        raise NotImplementedError(\"Subclasses must implement this method\")\n",
    "\n",
    "class Dog(Animal):\n",
    "    def speak(self):\n",
    "        return f\"{self.name} says Woof!\"\n",
    "\n",
    "class Cat(Animal):\n",
    "    def speak(self):\n",
    "        return f\"{self.name} says Meow!\""
   ]
  },
  {
   "cell_type": "code",
   "execution_count": 27,
   "id": "32bf61f4",
   "metadata": {},
   "outputs": [
    {
     "name": "stdout",
     "output_type": "stream",
     "text": [
      "Buddy says Woof!\n",
      "Whiskers says Meow!\n"
     ]
    }
   ],
   "source": [
    "dog = Dog(\"Buddy\")\n",
    "cat = Cat(\"Whiskers\")\n",
    "\n",
    "print(dog.speak())  # Output: Buddy says Woof!\n",
    "print(cat.speak())  # Output: Whiskers says Meow!"
   ]
  },
  {
   "cell_type": "markdown",
   "id": "67554958",
   "metadata": {},
   "source": [
    "In this example, Animal is the base class with the common attributes and methods that are shared by its subclasses Dog and Cat. Each subclass specializes in its own speak method, but they inherit the name attribute from the base class."
   ]
  },
  {
   "cell_type": "markdown",
   "id": "f05c6446",
   "metadata": {},
   "source": [
    "#### Types of Inheritance:\n",
    "\n",
    "1. **Single Inheritance**: A subclass inherits from only one superclass.\n",
    "2. **Multiple Inheritance**: A subclass inherits from multiple superclasses. This is supported in some programming languages, including Python.\n",
    "3. **Multilevel Inheritance**: A chain of inheritance where a subclass becomes a base class for another subclass.\n",
    "4. **Hierarchical Inheritance**: Multiple subclasses inherit from a single base class.\n",
    "\n",
    "#### Summary\n",
    "Inheritance in OOP allows you to create new classes (subclasses) based on existing classes (superclasses). Subclasses inherit attributes and methods from their superclasses, and you can extend or modify their behavior. This promotes code reuse, abstraction, and flexibility in designing complex software systems."
   ]
  },
  {
   "cell_type": "markdown",
   "id": "56d4e111",
   "metadata": {},
   "source": [
    "## 6. Polymorphism\n",
    "\n",
    "This is often an essential concept withing coding courses/ bootcamps/ school/ university, however it is a topic that is greatly confused. Please let me know if the below explanation clarifies the concept?\n",
    "\n",
    "Polymorphism is a fundamental concept in Object-Oriented Programming (OOP) that allows objects of different classes to be treated as objects of a common superclass. It enables different classes to share a common interface and exhibit different behaviors based on their specific implementations. Polymorphism promotes flexibility, reusability, and code extensibility.\n",
    "\n",
    "#### Example:\n",
    "Consider a Shape superclass with various subclasses like `Circle` and `Rectangle`. Each subclass has its own implementation of a calculate_area method. Polymorphism allows you to treat instances of these subclasses as `Shape` objects and call the `calculate_area` method, even though the specific implementation differs."
   ]
  },
  {
   "cell_type": "code",
   "execution_count": 24,
   "id": "62a72394",
   "metadata": {},
   "outputs": [],
   "source": [
    "class Shape:\n",
    "    def calculate_area(self):\n",
    "        pass\n",
    "\n",
    "class Circle(Shape):\n",
    "    def __init__(self, radius):\n",
    "        self.radius = radius\n",
    "\n",
    "    def calculate_area(self):\n",
    "        return 3.14159 * self.radius * self.radius\n",
    "\n",
    "class Rectangle(Shape):\n",
    "    def __init__(self, width, height):\n",
    "        self.width = width\n",
    "        self.height = height\n",
    "\n",
    "    def calculate_area(self):\n",
    "        return self.width * self.height"
   ]
  },
  {
   "cell_type": "code",
   "execution_count": 25,
   "id": "97c3da1e",
   "metadata": {},
   "outputs": [
    {
     "name": "stdout",
     "output_type": "stream",
     "text": [
      "Area of shape: 78.53975\n",
      "Area of shape: 12\n"
     ]
    }
   ],
   "source": [
    "# Using polymorphism\n",
    "shapes = [Circle(5), Rectangle(3, 4)]\n",
    "\n",
    "for shape in shapes:\n",
    "    print(f\"Area of shape: {shape.calculate_area()}\")"
   ]
  },
  {
   "cell_type": "markdown",
   "id": "61751ae1",
   "metadata": {},
   "source": [
    "In this example, `Circle` and `Rectangle` are subclasses of `Shape`. By treating instances of both subclasses as `Shape` objects, we can call the `calculate_area` method on each of them. Polymorphism allows the program to determine which specific implementation of `calculate_area` to use based on the object's actual class at runtime."
   ]
  },
  {
   "cell_type": "markdown",
   "id": "a9945b69",
   "metadata": {},
   "source": [
    "## 7. Abstraction\n",
    "\n",
    "Abstraction is a key concept in Object-Oriented Programming (OOP) that focuses on simplifying complex reality by modeling classes based on their essential characteristics. It involves creating abstract classes with a clear and simplified interface, while hiding the underlying implementation details. Abstraction provides a way to manage complexity and create a more understandable and manageable codebase.\n",
    "\n",
    "Here's a more detailed explanation of abstraction:\n",
    "\n",
    "#### Abstract Classes:\n",
    "An abstract class is a class that cannot be instantiated on its own; it's meant to serve as a blueprint for other classes. It defines a common set of attributes and methods that its subclasses will share. Abstract classes often have abstract methods, which are methods that don't have an implementation in the abstract class itself but must be implemented in its subclasses.\n",
    "\n",
    "#### Benefits of Abstraction:\n",
    "\n",
    "1. **Simplification**: Abstraction focuses on the essential properties and behavior of objects, ignoring unnecessary details. This simplifies the design and makes it easier to understand the code.\n",
    "2. **Modularity**: By creating abstract classes that define a clear interface, you can create modular components that are easy to integrate into larger systems.\n",
    "3. **Flexibility**: Abstraction allows you to provide a consistent interface while allowing different implementations. This promotes code reuse and future extensions.\n",
    "4. **Encapsulation**: Abstract classes encapsulate the common behavior and attributes of related classes, promoting data security and hiding internal details."
   ]
  },
  {
   "cell_type": "code",
   "execution_count": 29,
   "id": "070e79d2",
   "metadata": {},
   "outputs": [],
   "source": [
    "from abc import ABC, abstractmethod\n",
    "\n",
    "class Shape(ABC):\n",
    "    @abstractmethod\n",
    "    def calculate_area(self):\n",
    "        pass\n",
    "\n",
    "class Circle(Shape):\n",
    "    def __init__(self, radius):\n",
    "        self.radius = radius\n",
    "\n",
    "    def calculate_area(self):\n",
    "        return 3.14159 * self.radius * self.radius\n",
    "\n",
    "class Rectangle(Shape):\n",
    "    def __init__(self, width, height):\n",
    "        self.width = width\n",
    "        self.height = height\n",
    "\n",
    "    def calculate_area(self):\n",
    "        return self.width * self.height"
   ]
  },
  {
   "cell_type": "code",
   "execution_count": null,
   "id": "3fe7b48d",
   "metadata": {},
   "outputs": [],
   "source": [
    "# Using abstraction\n",
    "shapes = [Circle(5), Rectangle(3, 4)]\n",
    "\n",
    "for shape in shapes:\n",
    "    print(f\"Area of shape: {shape.calculate_area()}\")"
   ]
  },
  {
   "cell_type": "markdown",
   "id": "0a6ea096",
   "metadata": {},
   "source": [
    "In this example, `Shape` is an abstract class with an abstract method `calculate_area`. Subclasses like `Circle` and `Rectangle` provide their own implementations of this method. Using abstraction, you define a common interface for these subclasses, allowing them to be treated uniformly while maintaining their individual behavior.\n",
    "\n",
    "#### Summary\n",
    "Abstraction in OOP involves creating abstract classes with a simplified interface that hides complex implementation details. It simplifies design, promotes modularity, and enhances code flexibility, making it easier to manage and extend your software systems."
   ]
  },
  {
   "cell_type": "markdown",
   "id": "f1ea9fc5",
   "metadata": {},
   "source": [
    "## OOP Developement Practices and Rules\n",
    "common development rules and conventions for Object-Oriented Programming (OOP) in Python:\n",
    "\n",
    "1. **Class Names**: Use CamelCase for class names. Begin each word with a capital letter, without spaces or underscores. Example: MyClass, CircleShape.\n",
    "\n",
    "2. **Method and Function Names**: Use lowercase with underscores for method and function names. This is known as snake_case. Example: calculate_area, place_order.\n",
    "\n",
    "3. **Attribute Names**: Use lowercase with underscores for attribute names. This maintains consistency with method and function naming. Example: customer_name, product_price.\n",
    "\n",
    "4. **Private Attributes**: Prefix private attributes with an underscore. This indicates that the attribute should not be accessed directly from outside the class. Example: _balance, _private_data.\n",
    "\n",
    "5. **Inheritance**: Use inheritance to create subclasses that inherit attributes and methods from parent (super) classes. This promotes code reuse and hierarchy.\n",
    "\n",
    "6. **Abstraction**: Define abstract classes with abstract methods if you want to create a common interface for subclasses. Use the ABC module for abstract base classes.\n",
    "\n",
    "7. **Encapsulation**: Use access modifiers (public, protected, private) to control the visibility and accessibility of class members (attributes and methods). This ensures proper data hiding and encapsulation.\n",
    "\n",
    "8. **Polymorphism**: Design classes so that objects of different classes can be treated as objects of a common superclass. This enables flexibility and interchangeable use of objects.\n",
    "\n",
    "9. **Module Organization**: Organize classes into separate files and modules. Each file can contain one or more related classes. Use the import statement to access classes from different modules.\n",
    "\n",
    "10. **Comments and Documentation**: Include comments and docstrings to explain the purpose, usage, and behavior of classes, methods, and attributes. This enhances code readability and helps others understand your code.\n",
    "\n",
    "11. **Class Responsibility**: Follow the Single Responsibility Principle: Each class should have a single primary responsibility or role.\n",
    "\n",
    "12. **Consistent Naming**: Maintain consistent naming conventions across your codebase. This improves code readability and reduces confusion.\n",
    "\n",
    "13. **Code Readability**: Write clean and readable code. Use meaningful names for classes, methods, and attributes to make your code self-explanatory.\n",
    "\n",
    "14. **Code Reusability**: Design classes and methods to be reusable. Avoid hardcoding specific values that limit the flexibility and applicability of your classes.\n",
    "\n",
    "15. **Error Handling**: Implement proper error handling within methods and constructors. Raise appropriate exceptions to indicate unexpected behaviors or invalid input.\n",
    "\n",
    "Following these guidelines promotes consistency, readability, and maintainability in your Object-Oriented Programming projects, allowing you and others to work effectively with your code."
   ]
  },
  {
   "cell_type": "markdown",
   "id": "0de3fdb9",
   "metadata": {},
   "source": [
    "## Exersizes\n",
    "Please review and complete the `oop_exersizes.md` or `oop_exersizes.pdf` file inside of the repository `exersizes/` directory."
   ]
  }
 ],
 "metadata": {
  "kernelspec": {
   "display_name": "Python 3 (ipykernel)",
   "language": "python",
   "name": "python3"
  },
  "language_info": {
   "codemirror_mode": {
    "name": "ipython",
    "version": 3
   },
   "file_extension": ".py",
   "mimetype": "text/x-python",
   "name": "python",
   "nbconvert_exporter": "python",
   "pygments_lexer": "ipython3",
   "version": "3.9.13"
  }
 },
 "nbformat": 4,
 "nbformat_minor": 5
}
